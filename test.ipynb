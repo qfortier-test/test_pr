{
 "cells": [
  {
   "cell_type": "markdown",
   "id": "2cf0a6e5",
   "metadata": {},
   "source": [
    "# Fonctions\n",
    "\n",
    "OCaml est un langage fonctionnel, ce qui signifie que les fonctions y occupent une place importante et peuvent être manipulées un peu comme des variables.  \n",
    "Pour utiliser une fonction `f` sur une valeur `x`, on écrira simplement `f x` (et non pas `f(x)`.  \n",
    "\n",
    "Un certain nombre de fonctions sont déjà définies en OCaml. Par exemple, la racine carrée : "
   ]
  },
  {
   "cell_type": "code",
   "execution_count": null,
   "id": "ab0ee707",
   "metadata": {},
   "outputs": [],
   "source": [
    "sqrt 2.0 (* renvoie la valeur de racine de 2 *)"
   ]
  },
  {
   "cell_type": "markdown",
   "id": "cc2c4570",
   "metadata": {},
   "source": [
    "Chaque fonction possède une **signature**, qui donne les types des paramètres (valeurs en entrée de la fonction) et le type de la valeur de retour."
   ]
  },
  {
   "cell_type": "code",
   "execution_count": null,
   "id": "6a5189e3",
   "metadata": {},
   "outputs": [],
   "source": [
    "sqrt"
   ]
  },
  {
   "cell_type": "markdown",
   "id": "b283b8f7",
   "metadata": {},
   "source": [
    "`float -> float` signifie que `sqrt` est une fonction qui prend un flottant en entrée et renvoie un flottant. On ne peut donc pas l'appliquer sur un entier :"
   ]
  },
  {
   "cell_type": "code",
   "execution_count": null,
   "id": "aaa5adb8",
   "metadata": {},
   "outputs": [],
   "source": [
    "(* sqrt 2 *)"
   ]
  },
  {
   "cell_type": "markdown",
   "id": "d913fbd8",
   "metadata": {},
   "source": [
    "## Définition de fonction"
   ]
  },
  {
   "cell_type": "markdown",
   "id": "5cf05c0a",
   "metadata": {},
   "source": [
    "En OCaml, une fonction se définie de la façon suivante :\n",
    "```ocaml\n",
    "let nom_fonction nom_argument = ... \n",
    "```\n",
    "où `...` est le corps de la fonction, c'est à dire ce qui est exécuté lorsqu'on utilise la fonction. La valeur renvoyée par la fonction est celle de la dernière instruction (pas besoin de `return`)."
   ]
  },
  {
   "cell_type": "markdown",
   "id": "a01d9237",
   "metadata": {},
   "source": [
    "Définissons par exemple la fonction $f: x \\longmapsto 2x$ :"
   ]
  },
  {
   "cell_type": "code",
   "execution_count": null,
   "id": "cc2d7712",
   "metadata": {},
   "outputs": [],
   "source": [
    "let f x = 2*x"
   ]
  },
  {
   "cell_type": "markdown",
   "id": "cd06953d",
   "metadata": {},
   "source": [
    "OCaml nous dit que `f` est de type `int -> int`, ce qui signifie que `f` prend un entier en entrée et renvoie un entier en sortie. Ceci est similaire à la notation mathématique $f : \\mathbb{N} \\longrightarrow \\mathbb{N}$.  \n",
    "\n",
    "Notons que `x` est une variable **muette** : elle n'existe qu'à l'intérieur de `f`, n'a aucun rapport avec une variable `x` définie précédemment et la fonction suivante définit exactement la même fonction :"
   ]
  },
  {
   "cell_type": "code",
   "execution_count": null,
   "id": "c279b7c2",
   "metadata": {},
   "outputs": [],
   "source": [
    "let f y = 2*y (* peu importe le nom de la variable muette y *)"
   ]
  },
  {
   "cell_type": "markdown",
   "id": "b62794fb",
   "metadata": {},
   "source": [
    "Maintenant que `f` est définie, on peut calculer $f(3)$ :"
   ]
  },
  {
   "cell_type": "code",
   "execution_count": null,
   "id": "7d4549d5",
   "metadata": {},
   "outputs": [],
   "source": [
    "f 3"
   ]
  },
  {
   "cell_type": "markdown",
   "id": "2693c026",
   "metadata": {},
   "source": [
    "Comme pour les variables, il est possible d'utiliser in pour spécifier la portée d'une fonction $g$"
   ]
  },
  {
   "cell_type": "code",
   "execution_count": null,
   "id": "cb507fde",
   "metadata": {},
   "outputs": [],
   "source": [
    "let g x = x + 1 in\n",
    "g 0"
   ]
  },
  {
   "cell_type": "markdown",
   "id": "fb083200",
   "metadata": {},
   "source": [
    "**Exercice** Donner la valeur de l'expression suivante :\n",
    "```ocaml\n",
    "let h x = f x + 1 in\n",
    "h 3\n",
    "```"
   ]
  },
  {
   "cell_type": "markdown",
   "id": "95dece57",
   "metadata": {},
   "source": [
    "Il est possible d'avoir plusieurs instructions dans une fonction (même si seule la dernière sera renvoyée) :"
   ]
  },
  {
   "cell_type": "code",
   "execution_count": null,
   "id": "99dba449",
   "metadata": {},
   "outputs": [],
   "source": [
    "let pow4 x = (* je saute une ligne ici pour plus de lisibilité *)\n",
    "    let y = x*x in\n",
    "    y*y (* renvoie x puissance 4 *)"
   ]
  },
  {
   "cell_type": "code",
   "execution_count": null,
   "id": "e665332a",
   "metadata": {},
   "outputs": [],
   "source": [
    "pow4 2 (* test de notre fonction *)"
   ]
  },
  {
   "cell_type": "markdown",
   "id": "abf8b69a",
   "metadata": {},
   "source": [
    "## Fonctions anonymes"
   ]
  },
  {
   "cell_type": "markdown",
   "id": "2614d59a",
   "metadata": {},
   "source": [
    "Quand on a besoin d'utiliser une fonction une seule fois, on peut définir une fonction anonyme (sans nom) avec `fun`. "
   ]
  },
  {
   "cell_type": "code",
   "execution_count": null,
   "id": "a556228a",
   "metadata": {},
   "outputs": [],
   "source": [
    "fun x -> x*2 (* définition d'une fonction anonyme *)"
   ]
  },
  {
   "cell_type": "code",
   "execution_count": null,
   "id": "aafec50a",
   "metadata": {},
   "outputs": [],
   "source": [
    "(fun x -> x*2) 3 (* applique une fonction anonyme sur la valeur 3 *)"
   ]
  },
  {
   "cell_type": "markdown",
   "id": "6802f647",
   "metadata": {},
   "source": [
    "Remarque : les deux définitions suivantes sont en fait complètement équivalentes.\n",
    "```ocaml\n",
    "let f x = ...\n",
    "```\n",
    "```ocaml\n",
    "let f = fun x -> ...\n",
    "```"
   ]
  },
  {
   "cell_type": "markdown",
   "id": "53c01522",
   "metadata": {},
   "source": [
    "## Fonctions de plusieurs variables"
   ]
  },
  {
   "cell_type": "markdown",
   "id": "166d053f",
   "metadata": {},
   "source": [
    "Il est possible de définir des fonctions avec plusieurs paramètres, par exemple :"
   ]
  },
  {
   "cell_type": "code",
   "execution_count": null,
   "id": "5521cb10",
   "metadata": {
    "lines_to_next_cell": 0
   },
   "outputs": [],
   "source": [
    "let sum x y = x + y"
   ]
  },
  {
   "cell_type": "code",
   "execution_count": null,
   "id": "f36023c3",
   "metadata": {},
   "outputs": [],
   "source": [
    "sum 3 4 (* renvoie 3 + 4 *)"
   ]
  },
  {
   "cell_type": "markdown",
   "id": "c1b61913",
   "metadata": {},
   "source": [
    "Le type de `sum` est `int -> int -> int`, ce qui peut paraître étrange.  \n",
    "C'est équivalent à `int -> (int -> int)`, ce qui signifie que `sum` prend en entier en argument et renvoie une valeur de type `int -> int` (c'est à dire une fonction).  \n",
    "En effet :"
   ]
  },
  {
   "cell_type": "code",
   "execution_count": null,
   "id": "c5f76ef9",
   "metadata": {},
   "outputs": [],
   "source": [
    "sum 3"
   ]
  },
  {
   "cell_type": "markdown",
   "id": "60badbb6",
   "metadata": {},
   "source": [
    "`sum 3` est une fonction qui prend en argument un entier `y` et qui renvoie `3 + y`, ce qu'on peut vérifier :"
   ]
  },
  {
   "cell_type": "code",
   "execution_count": null,
   "id": "65183ad8",
   "metadata": {},
   "outputs": [],
   "source": [
    "let f = sum 3 in (* f est une fonction *)\n",
    "f 4 (* renvoie sum 3 4, c'est à dire 7 *)"
   ]
  },
  {
   "cell_type": "markdown",
   "id": "a9507a45",
   "metadata": {},
   "source": [
    "La possibilité d'appliquer une fonction seulement sur certains arguments s'appelle l'**application partielle** de fonction. C'est un des avantages d'OCaml par rapport à Python.  "
   ]
  },
  {
   "cell_type": "markdown",
   "id": "792fba7c",
   "metadata": {},
   "source": [
    "De la même façon, une fonction OCaml à 3 arguments sera de type `... -> ... -> ... -> ...`."
   ]
  },
  {
   "cell_type": "markdown",
   "id": "e652e555",
   "metadata": {},
   "source": [
    "**Exercice** : \n",
    "1. Écrire une fonction `xor : bool -> bool -> bool` telle que `xor a b` renvoie le ou exclusif de `a` et `b`, c'est à dire `true` si `a` ou `b` est `true`, mais pas les deux.\n",
    "2. Écrire une fonction `delta : float -> float -> float -> float` telle que `delta a b c` renvoie le discriminant de l'équation $ax^2 + bx + c = 0$."
   ]
  },
  {
   "cell_type": "markdown",
   "id": "ba7c43f8",
   "metadata": {},
   "source": [
    "## Polymorphisme"
   ]
  },
  {
   "cell_type": "markdown",
   "id": "54560381",
   "metadata": {},
   "source": [
    "Reprenons notre 1er exemple de fonction :"
   ]
  },
  {
   "cell_type": "code",
   "execution_count": null,
   "id": "17b460a9",
   "metadata": {},
   "outputs": [],
   "source": [
    "let f x = 2*x"
   ]
  },
  {
   "cell_type": "markdown",
   "id": "bd0b5d76",
   "metadata": {},
   "source": [
    "OCaml sait que l'argument `x` de `f` est un `int` car on utilise l'opérateur `*` qui ne s'utilise que sur des entiers. Mais dans certaines fonctions, il n'y a pas de contrainte de type :"
   ]
  },
  {
   "cell_type": "code",
   "execution_count": null,
   "id": "ef1cbd1e",
   "metadata": {},
   "outputs": [],
   "source": [
    "let id x = x"
   ]
  },
  {
   "cell_type": "markdown",
   "id": "13145eba",
   "metadata": {},
   "source": [
    "Cette fonction `id` (pour identité) renvoie son argument sans le modifier. Comme aucune opération n'est appliquée sur `x`, il n'y a pas de conrainte sur son type. OCaml utilise alors `'a` pour désigner le type quelconque de `x`.  \n",
    "Notons que le type de retour de `id` est `'a` également : OCaml nous dit que `id` renvoie une valeur du même type que l'argument."
   ]
  },
  {
   "cell_type": "markdown",
   "id": "b471ca9c",
   "metadata": {},
   "source": [
    "**Exercice** : donner le type des fonctions suivantes  \n",
    "```ocaml\n",
    " let f x = 42\n",
    " ```\n",
    "```ocaml\n",
    " let g x y f = x + f y\n",
    " ```"
   ]
  },
  {
   "cell_type": "markdown",
   "id": "5a3e1010",
   "metadata": {},
   "source": [
    "## Fonction comme argument\n",
    "\n",
    "Il est possible d'utiliser une fonction en argument d'une autre fonction. Par exemple, la fonction suivante évalue une autre fonction en la valeur 0 :"
   ]
  },
  {
   "cell_type": "code",
   "execution_count": null,
   "id": "d1d2338d",
   "metadata": {},
   "outputs": [],
   "source": [
    "let eval f =\n",
    "f 0"
   ]
  },
  {
   "cell_type": "code",
   "execution_count": null,
   "id": "5f02017f",
   "metadata": {},
   "outputs": [],
   "source": [
    "let f x = 3*x + 7 in\n",
    "eval f"
   ]
  },
  {
   "cell_type": "markdown",
   "id": "edd34d1d",
   "metadata": {},
   "source": [
    "**Exercice** : \n",
    "1. On définit une fonction `h` :\n",
    "```ocaml\n",
    "let h f g x = f (g x)\n",
    "```\n",
    "Donner la valeur de l'expression :\n",
    "```ocaml\n",
    "h (fun x -> x*x) (fun x -> x + 1) 3\n",
    "```\n",
    "2. À quoi sert `h`? Comment cette opération s'appelle-t-elle mathématiquement?"
   ]
  },
  {
   "cell_type": "code",
   "execution_count": null,
   "id": "72652193",
   "metadata": {},
   "outputs": [],
   "source": []
  }
 ],
 "metadata": {
  "kernelspec": {
   "display_name": "OCaml default",
   "language": "OCaml",
   "name": "ocaml-jupyter"
  }
 },
 "nbformat": 4,
 "nbformat_minor": 5
}
